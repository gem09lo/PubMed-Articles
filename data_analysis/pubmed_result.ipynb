{
 "cells": [
  {
   "cell_type": "markdown",
   "id": "155b586e",
   "metadata": {},
   "source": [
    "## This notebook processes the full dataset"
   ]
  },
  {
   "cell_type": "markdown",
   "id": "16be2e8f",
   "metadata": {},
   "source": [
    "## Imports"
   ]
  },
  {
   "cell_type": "code",
   "execution_count": 247,
   "id": "308947bc",
   "metadata": {},
   "outputs": [],
   "source": [
    "import pandas as pd\n",
    "import xml.etree.ElementTree as ET\n",
    "import re\n",
    "# pip install spacy\n",
    "# python -m spacy download en_core_web_sm\n",
    "import spacy\n",
    "import pycountry\n",
    "from rapidfuzz import process, fuzz\n",
    "from rapidfuzz.distance import Levenshtein\n",
    "import rapidfuzz"
   ]
  },
  {
   "cell_type": "markdown",
   "id": "9691235e",
   "metadata": {},
   "source": [
    "## Read File"
   ]
  },
  {
   "cell_type": "code",
   "execution_count": null,
   "id": "a983979a",
   "metadata": {},
   "outputs": [],
   "source": [
    "tree = ET.parse('../raw_data/pubmed_result_sjogren.xml')\n",
    "root = tree.getroot()"
   ]
  },
  {
   "cell_type": "markdown",
   "id": "bf6dcecc",
   "metadata": {},
   "source": [
    "# Create base dataframe"
   ]
  },
  {
   "cell_type": "code",
   "execution_count": 249,
   "id": "78fd1fc7",
   "metadata": {},
   "outputs": [],
   "source": [
    "def parse_article_metadata(article):\n",
    "    \"\"\"Returns article pmid, title and year.\"\"\"\n",
    "    pmid_value = article.find(\".//PMID\").text\n",
    "    title_value = article.find(\".//ArticleTitle\").text\n",
    "    year_value = article.find(\".//PubDate/Year\")\n",
    "\n",
    "    return pmid_value, title_value, year_value.text if year_value is not None else \"\""
   ]
  },
  {
   "cell_type": "code",
   "execution_count": 250,
   "id": "dcbbb493",
   "metadata": {},
   "outputs": [],
   "source": [
    "def parse_author_info(author):\n",
    "    \"\"\"Returns author information\"\"\"\n",
    "    last_name = author.find(\"LastName\")\n",
    "    first_name = author.find(\"ForeName\")\n",
    "\n",
    "    if last_name is not None and first_name is not None:\n",
    "        return f\"{last_name.text} {first_name.text}\"\n",
    "    elif last_name is not None:\n",
    "        return last_name.text\n",
    "    elif first_name is not None:\n",
    "        return first_name.text\n",
    "    else:\n",
    "        return \"\""
   ]
  },
  {
   "cell_type": "code",
   "execution_count": 251,
   "id": "0969271c",
   "metadata": {},
   "outputs": [],
   "source": [
    "def get_email(affiliation_text):\n",
    "    \"\"\"Extracts the email from affiliation name using regex\"\"\"\n",
    "    email_address = re.search(r\"[\\w.]+@[\\w.]+\\w+\", affiliation_text)\n",
    "    return email_address.group() if email_address else \"\""
   ]
  },
  {
   "cell_type": "code",
   "execution_count": 252,
   "id": "7b24e1ca",
   "metadata": {},
   "outputs": [],
   "source": [
    "def get_zipcode(affiliation_text):\n",
    "    \"\"\"Extracts zipcode from affiliation name using regex\"\"\"\n",
    "    zip_code = re.search(\n",
    "        r\"[A-Za-z]{1,2}\\d[A-Za-z\\d]? ?\\d[A-Za-z]{2}|\\d{5}(-\\d{4})?|[A-Z]\\d[A-Z] \\d[A-Z]\\d\", affiliation_text)\n",
    "    return zip_code.group() if zip_code else \"\""
   ]
  },
  {
   "cell_type": "code",
   "execution_count": 253,
   "id": "5b81f44a",
   "metadata": {},
   "outputs": [],
   "source": [
    "\n",
    "def get_keywords(article):\n",
    "    \"\"\"Returns keywords for each article\"\"\"\n",
    "    keywords_element = article.findall(\".//KeywordList/Keyword\")\n",
    "    return [keyword.text for keyword in keywords_element] if keywords_element else [\"\"]"
   ]
  },
  {
   "cell_type": "code",
   "execution_count": 254,
   "id": "34e0b3b4",
   "metadata": {},
   "outputs": [],
   "source": [
    "def get_mesh_identifiers(article):\n",
    "    \"\"\"Returns mesh identifiers UI for each article\"\"\"\n",
    "    mesh_elements = article.findall(\n",
    "        \".//MeshHeadingList/MeshHeading/DescriptorName\")\n",
    "    return [mesh.get(\"UI\") for mesh in mesh_elements] if mesh_elements else [\"\"]"
   ]
  },
  {
   "cell_type": "code",
   "execution_count": null,
   "id": "e97483c4",
   "metadata": {},
   "outputs": [],
   "source": [
    "pmid, title, author_name, affiliation_name, year = [], [], [], [], []\n",
    "mesh_identifiers, keywords, email, zipcode = [], [], [], []\n",
    "\n",
    "for article in root.findall(\"PubmedArticle\"):\n",
    "    pmid_value, title_value, year_value = parse_article_metadata(article)\n",
    "\n",
    "    for author in article.findall(\".//AuthorList/Author\"):\n",
    "        for affiliation in author.findall(\"AffiliationInfo/Affiliation\"):\n",
    "            pmid.append(pmid_value)\n",
    "            title.append(title_value)\n",
    "            year.append(year_value)\n",
    "\n",
    "            author_name.append(parse_author_info(author))\n",
    "\n",
    "            affiliation_text = affiliation.text\n",
    "            affiliation_name.append(affiliation_text)\n",
    "\n",
    "            email.append(get_email(affiliation_text))\n",
    "            zipcode.append(get_zipcode(affiliation_text))\n",
    "\n",
    "            keywords.append(get_keywords(article))\n",
    "            mesh_identifiers.append(get_mesh_identifiers(article))\n",
    "\n",
    "pubmed_df = pd.DataFrame({\n",
    "    \"Article PMID\": pmid,\n",
    "    \"Article title\": title,\n",
    "    \"Article keywords\": keywords,\n",
    "    \"Article MESH identifiers\": mesh_identifiers,\n",
    "    \"Article Year\": year,\n",
    "    \"Author full name\": author_name,\n",
    "    \"Author email\": email,\n",
    "    \"Affiliation name\": affiliation_name,\n",
    "    \"Affiliation zipcode\": zipcode\n",
    "})\n",
    "\n",
    "pubmed_df.to_csv(\"../cleaned_data/pubmed_output.csv\", index=False)\n",
    "\n",
    "#took 4 secs"
   ]
  },
  {
   "cell_type": "markdown",
   "id": "b7186f3a",
   "metadata": {},
   "source": [
    "# Challenge 3: NLP"
   ]
  },
  {
   "cell_type": "code",
   "execution_count": 256,
   "id": "0304f7d4",
   "metadata": {},
   "outputs": [],
   "source": [
    "# Load English tokenizer, tagger, parser and NER\n",
    "nlp = spacy.load(\"en_core_web_sm\")\n"
   ]
  },
  {
   "cell_type": "markdown",
   "id": "3747073b",
   "metadata": {},
   "source": [
    "**Extract country and institution name from affiliation**"
   ]
  },
  {
   "cell_type": "code",
   "execution_count": 257,
   "id": "9a91a047",
   "metadata": {},
   "outputs": [],
   "source": [
    "def extract_entities(affiliation_text):\n",
    "    \"\"\"Returns the entities of each affiliation(First affiliaiton name column)\"\"\"\n",
    "    doc = nlp(affiliation_text)\n",
    "    entities = doc.ents\n",
    "\n",
    "    return entities\n",
    "\n",
    "\n",
    "entities = extract_entities(affiliation_text)\n",
    "\n",
    "\n",
    "def extract_gpe_entities(entities):\n",
    "    gpe_entities = {\n",
    "        entity.text for entity in reversed(entities) if entity.label_ == \"GPE\"}\n",
    "    return gpe_entities\n",
    "\n",
    "\n",
    "def extract_org_entities(entities):\n",
    "    org_entities = {\n",
    "        entity.text for entity in entities if entity.label_ == \"ORG\"}\n",
    "    return org_entities"
   ]
  },
  {
   "cell_type": "code",
   "execution_count": 258,
   "id": "a3b62c74",
   "metadata": {},
   "outputs": [],
   "source": [
    "valid_countries = {country.name for country in pycountry.countries}\n",
    "\n",
    "def extract_country(gpe_entities):\n",
    "    \"\"\"Returns valid country name from GPE entities for each affiliation\"\"\"\n",
    "    # Consider these example entities: ['Amsterdam', 'Amsterdam', 'The Netherlands'] ['San Sebastián de', 'Madrid']['Republic of China']\n",
    "    if gpe_entities:\n",
    "        return next((gpe for gpe in gpe_entities if gpe in valid_countries), None)\n",
    "    return None\n",
    "\n",
    "#no for loop took longer and the next gpe with list comp took 15 mins"
   ]
  },
  {
   "cell_type": "code",
   "execution_count": 259,
   "id": "43b25c11",
   "metadata": {},
   "outputs": [],
   "source": [
    "def get_institution_name(org_entities):\n",
    "    \"\"\"Returns the institution name for each affiliation\"\"\"\n",
    "    valid_institutions = [\"University\", \"Institute\",\n",
    "                          \"College\", \"Hospital\", \"Center\"]\n",
    "\n",
    "    for institution in org_entities:\n",
    "        for valid_institution in valid_institutions:\n",
    "            if valid_institution in institution:\n",
    "                return institution\n",
    "    return None"
   ]
  },
  {
   "cell_type": "markdown",
   "id": "cb9972cb",
   "metadata": {},
   "source": [
    "**Extracting country from affiliation name**\n",
    "- Multiple tokens from extracting GPE(countries, cities, names)\n",
    "- Some have no country names but have city names\n",
    "- Some countries have \"The\" in front\n",
    "- Not sure why Madrid didn't work\n",
    "- Some have repeated names"
   ]
  },
  {
   "cell_type": "markdown",
   "id": "4fbd7fcf",
   "metadata": {},
   "source": [
    "**Extracting institution name from affiliation name**\n",
    "- multiple tokens \n",
    "- Looking at the institutes.csv, I should get the ones with university in them?"
   ]
  },
  {
   "cell_type": "markdown",
   "id": "b5d74b1d",
   "metadata": {},
   "source": [
    "## Challenge 4: RapidFuzz"
   ]
  },
  {
   "cell_type": "markdown",
   "id": "0d42050a",
   "metadata": {},
   "source": [
    "Assumptions:\n",
    "- Threshold similarity score of 90% considered a match\n",
    "- matching based on names only \n",
    "- case and minor differences: handling case sensitivity and small variations default"
   ]
  },
  {
   "cell_type": "code",
   "execution_count": null,
   "id": "107b39a1",
   "metadata": {},
   "outputs": [],
   "source": [
    "pubmed_df = pd.read_csv(\"../cleaned_data/pubmed_output.csv\")\n",
    "grid_df = pd.read_csv(\"../raw_data/institutes.csv\")"
   ]
  },
  {
   "cell_type": "code",
   "execution_count": 261,
   "id": "aa889110",
   "metadata": {},
   "outputs": [],
   "source": [
    "grid_map = grid_df.set_index('name').to_dict()['grid_id']\n",
    "\n",
    "\n",
    "def match_org_to_grid(org_entities):\n",
    "    \"\"\"Matches the org_entities to GRID dataset institutions with RapidFuzz\"\"\"\n",
    "    best_match = None\n",
    "    best_match_id = None\n",
    "\n",
    "    for org in org_entities:\n",
    "        match = process.extractOne(org, grid_map.keys(\n",
    "        ), scorer=Levenshtein.normalized_similarity, score_cutoff=0.9)\n",
    "        if match and match[1] >= 0.9:\n",
    "            best_match = match[0]\n",
    "            best_match_id = grid_map[best_match]\n",
    "            break\n",
    "\n",
    "    return (best_match, best_match_id)"
   ]
  },
  {
   "cell_type": "code",
   "execution_count": null,
   "id": "401f38ed",
   "metadata": {},
   "outputs": [],
   "source": [
    "countries = []\n",
    "institution_names = []\n",
    "matched_institutions_grid = []\n",
    "matched_grid_ids = []\n",
    "\n",
    "pubmed_df[\"Affiliation name\"] = pubmed_df[\"Affiliation name\"].astype(str)\n",
    "pubmed_df[\"nlp\"] = pubmed_df[\"Affiliation name\"].apply(\n",
    "    extract_entities)\n",
    "\n",
    "\n",
    "pubmed_df[\"Country\"] = pubmed_df[\"nlp\"].apply(extract_gpe_entities)\n",
    "pubmed_df[\"Institution name\"] = pubmed_df[\"nlp\"].apply(extract_org_entities)\n",
    "\n",
    "pubmed_df[\"Country\"] = pubmed_df[\"Country\"].apply(extract_country)\n",
    "\n",
    "grid = pubmed_df[\"Institution name\"].apply(\n",
    "    match_org_to_grid)\n",
    "\n",
    "pubmed_df[[\"Institution GRID name\", \"Institution GRID id\"]\n",
    "          ] = pd.DataFrame(grid.to_list())\n",
    "\n",
    "pubmed_df.drop(columns=\"Institution name\")\n",
    "pubmed_df.drop(columns=\"nlp\")\n",
    "\n",
    "pubmed_df.to_csv(\"../cleaned_data/pubmed_output.csv\", index=False)"
   ]
  },
  {
   "cell_type": "code",
   "execution_count": null,
   "id": "824cf769",
   "metadata": {},
   "outputs": [],
   "source": [
    "# # Create and save new columns(affiliation country and affiliaiton institution name) to csv\n",
    "\n",
    "# countries = []\n",
    "# institution_names = []\n",
    "# matched_institutions_grid = []\n",
    "# matched_grid_ids = []\n",
    "\n",
    "# for article in root.findall(\"PubmedArticle\"):\n",
    "#     for author in article.findall(\".//AuthorList/Author\"):\n",
    "#         for affiliation in author.findall(\"AffiliationInfo/Affiliation\"):\n",
    "#             affiliation_text = affiliation.text\n",
    "#             gpe_entities, org_entities = extract_entities(affiliation_text)\n",
    "\n",
    "#             #challenge 3\n",
    "#             country = extract_country(gpe_entities)\n",
    "#             # institution_name = get_institution_name(org_entities)\n",
    "\n",
    "#             #challenge 4 \n",
    "#             grid_name, grid_id = match_org_to_grid(org_entities)\n",
    "\n",
    "#             countries.append(country)\n",
    "#             # institution_names.append(institution_name)\n",
    "#             matched_institutions_grid.append(grid_name)\n",
    "#             matched_grid_ids.append(grid_id)\n",
    "\n",
    "# pubmed_df[\"Affiliation country\"] = countries\n",
    "# # pubmed_df[\"Affiliation institution name\"] = institution_names\n",
    "# pubmed_df[\"Affiliation institution name (GRID)\"] = matched_institutions_grid\n",
    "# pubmed_df[\"Affiliation institution GRID ID\"] = matched_grid_ids\n",
    "\n",
    "# pubmed_df.to_csv(\"../cleaned_data/pubmed_output.csv\", index=False)\n",
    "\n",
    "# # 2 mins\n",
    "# # 15m 54\n",
    "\n",
    "# #Levenshtein 0.8 -> 8m 53s\n",
    "# # Levenshtein 0.9/no processor/ next(country) -> 6m 2.7s\n",
    "# # dictionary ORG - 5m 45s\n",
    "# # 5.27"
   ]
  }
 ],
 "metadata": {
  "kernelspec": {
   "display_name": ".venv",
   "language": "python",
   "name": "python3"
  },
  "language_info": {
   "codemirror_mode": {
    "name": "ipython",
    "version": 3
   },
   "file_extension": ".py",
   "mimetype": "text/x-python",
   "name": "python",
   "nbconvert_exporter": "python",
   "pygments_lexer": "ipython3",
   "version": "3.12.5"
  }
 },
 "nbformat": 4,
 "nbformat_minor": 5
}
